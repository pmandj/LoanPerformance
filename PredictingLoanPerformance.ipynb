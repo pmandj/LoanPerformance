{
 "cells": [
  {
   "cell_type": "code",
   "execution_count": 1,
   "metadata": {},
   "outputs": [],
   "source": [
    "import pandas as pd\n",
    "import numpy as np\n",
    "import matplotlib.pyplot as plt\n",
    "import seaborn as sns\n",
    "from sklearn.neighbors import KNeighborsClassifier\n",
    "from sklearn.naive_bayes import BernoulliNB\n",
    "from sklearn.ensemble import RandomForestClassifier\n",
    "from sklearn.linear_model import LogisticRegression\n",
    "from datetime import datetime\n",
    "\n",
    "\n",
    "df = pd.read_csv('full2017.csv.zip', compression='zip', low_memory=False)\n",
    "\n",
    "df.drop('Unnamed: 0', axis=1, inplace=True)"
   ]
  },
  {
   "cell_type": "markdown",
   "metadata": {},
   "source": [
    "# Intro\n",
    "\n",
    "In another notebook I explored and visualized loan data from Lending Club's Q4. The purpose of this notebook is to expand upon those learnings and predict loan performance for all of 2017 loan data."
   ]
  },
  {
   "cell_type": "code",
   "execution_count": 2,
   "metadata": {},
   "outputs": [
    {
     "data": {
      "text/html": [
       "<div>\n",
       "<style scoped>\n",
       "    .dataframe tbody tr th:only-of-type {\n",
       "        vertical-align: middle;\n",
       "    }\n",
       "\n",
       "    .dataframe tbody tr th {\n",
       "        vertical-align: top;\n",
       "    }\n",
       "\n",
       "    .dataframe thead th {\n",
       "        text-align: right;\n",
       "    }\n",
       "</style>\n",
       "<table border=\"1\" class=\"dataframe\">\n",
       "  <thead>\n",
       "    <tr style=\"text-align: right;\">\n",
       "      <th></th>\n",
       "      <th>loan_amnt</th>\n",
       "      <th>term</th>\n",
       "      <th>int_rate</th>\n",
       "      <th>monthly_pmt</th>\n",
       "      <th>grade</th>\n",
       "      <th>issue_d</th>\n",
       "      <th>purpose</th>\n",
       "      <th>loan_status</th>\n",
       "      <th>dti</th>\n",
       "      <th>recoveries</th>\n",
       "      <th>...</th>\n",
       "      <th>tax_liens</th>\n",
       "      <th>pub_rec_bankruptcies</th>\n",
       "      <th>addr_state</th>\n",
       "      <th>delinq_2yrs</th>\n",
       "      <th>delinq_amnt</th>\n",
       "      <th>annual_inc</th>\n",
       "      <th>num_tl_90g_dpd_24m</th>\n",
       "      <th>num_tl_30dpd</th>\n",
       "      <th>total_return</th>\n",
       "      <th>roi</th>\n",
       "    </tr>\n",
       "  </thead>\n",
       "  <tbody>\n",
       "    <tr>\n",
       "      <th>0</th>\n",
       "      <td>14000.0</td>\n",
       "      <td>60</td>\n",
       "      <td>12.74</td>\n",
       "      <td>316.69</td>\n",
       "      <td>C</td>\n",
       "      <td>Mar</td>\n",
       "      <td>credit_card</td>\n",
       "      <td>Current</td>\n",
       "      <td>17.48</td>\n",
       "      <td>0.0</td>\n",
       "      <td>...</td>\n",
       "      <td>0.0</td>\n",
       "      <td>0.0</td>\n",
       "      <td>CA</td>\n",
       "      <td>0.0</td>\n",
       "      <td>0.0</td>\n",
       "      <td>40000.0</td>\n",
       "      <td>0.0</td>\n",
       "      <td>0.0</td>\n",
       "      <td>19001.40</td>\n",
       "      <td>135.724286</td>\n",
       "    </tr>\n",
       "    <tr>\n",
       "      <th>1</th>\n",
       "      <td>15400.0</td>\n",
       "      <td>60</td>\n",
       "      <td>11.39</td>\n",
       "      <td>337.84</td>\n",
       "      <td>B</td>\n",
       "      <td>Mar</td>\n",
       "      <td>debt_consolidation</td>\n",
       "      <td>Current</td>\n",
       "      <td>11.52</td>\n",
       "      <td>0.0</td>\n",
       "      <td>...</td>\n",
       "      <td>0.0</td>\n",
       "      <td>0.0</td>\n",
       "      <td>CT</td>\n",
       "      <td>0.0</td>\n",
       "      <td>0.0</td>\n",
       "      <td>95000.0</td>\n",
       "      <td>0.0</td>\n",
       "      <td>0.0</td>\n",
       "      <td>20270.40</td>\n",
       "      <td>131.625974</td>\n",
       "    </tr>\n",
       "    <tr>\n",
       "      <th>2</th>\n",
       "      <td>4600.0</td>\n",
       "      <td>36</td>\n",
       "      <td>11.39</td>\n",
       "      <td>151.45</td>\n",
       "      <td>B</td>\n",
       "      <td>Mar</td>\n",
       "      <td>credit_card</td>\n",
       "      <td>Current</td>\n",
       "      <td>13.43</td>\n",
       "      <td>0.0</td>\n",
       "      <td>...</td>\n",
       "      <td>0.0</td>\n",
       "      <td>0.0</td>\n",
       "      <td>CT</td>\n",
       "      <td>0.0</td>\n",
       "      <td>0.0</td>\n",
       "      <td>44470.0</td>\n",
       "      <td>0.0</td>\n",
       "      <td>0.0</td>\n",
       "      <td>5452.20</td>\n",
       "      <td>118.526087</td>\n",
       "    </tr>\n",
       "    <tr>\n",
       "      <th>3</th>\n",
       "      <td>15000.0</td>\n",
       "      <td>36</td>\n",
       "      <td>5.32</td>\n",
       "      <td>451.73</td>\n",
       "      <td>A</td>\n",
       "      <td>Mar</td>\n",
       "      <td>debt_consolidation</td>\n",
       "      <td>Current</td>\n",
       "      <td>9.35</td>\n",
       "      <td>0.0</td>\n",
       "      <td>...</td>\n",
       "      <td>0.0</td>\n",
       "      <td>0.0</td>\n",
       "      <td>TX</td>\n",
       "      <td>0.0</td>\n",
       "      <td>0.0</td>\n",
       "      <td>182000.0</td>\n",
       "      <td>0.0</td>\n",
       "      <td>0.0</td>\n",
       "      <td>16262.28</td>\n",
       "      <td>108.415200</td>\n",
       "    </tr>\n",
       "    <tr>\n",
       "      <th>4</th>\n",
       "      <td>14000.0</td>\n",
       "      <td>36</td>\n",
       "      <td>15.99</td>\n",
       "      <td>492.13</td>\n",
       "      <td>C</td>\n",
       "      <td>Mar</td>\n",
       "      <td>credit_card</td>\n",
       "      <td>Current</td>\n",
       "      <td>31.07</td>\n",
       "      <td>0.0</td>\n",
       "      <td>...</td>\n",
       "      <td>0.0</td>\n",
       "      <td>0.0</td>\n",
       "      <td>KS</td>\n",
       "      <td>0.0</td>\n",
       "      <td>0.0</td>\n",
       "      <td>82000.0</td>\n",
       "      <td>0.0</td>\n",
       "      <td>0.0</td>\n",
       "      <td>17716.68</td>\n",
       "      <td>126.547714</td>\n",
       "    </tr>\n",
       "  </tbody>\n",
       "</table>\n",
       "<p>5 rows × 22 columns</p>\n",
       "</div>"
      ],
      "text/plain": [
       "   loan_amnt  term  int_rate  monthly_pmt grade issue_d             purpose  \\\n",
       "0    14000.0    60     12.74       316.69     C     Mar         credit_card   \n",
       "1    15400.0    60     11.39       337.84     B     Mar  debt_consolidation   \n",
       "2     4600.0    36     11.39       151.45     B     Mar         credit_card   \n",
       "3    15000.0    36      5.32       451.73     A     Mar  debt_consolidation   \n",
       "4    14000.0    36     15.99       492.13     C     Mar         credit_card   \n",
       "\n",
       "  loan_status    dti  recoveries     ...      tax_liens  pub_rec_bankruptcies  \\\n",
       "0     Current  17.48         0.0     ...            0.0                   0.0   \n",
       "1     Current  11.52         0.0     ...            0.0                   0.0   \n",
       "2     Current  13.43         0.0     ...            0.0                   0.0   \n",
       "3     Current   9.35         0.0     ...            0.0                   0.0   \n",
       "4     Current  31.07         0.0     ...            0.0                   0.0   \n",
       "\n",
       "   addr_state  delinq_2yrs delinq_amnt  annual_inc  num_tl_90g_dpd_24m  \\\n",
       "0          CA          0.0         0.0     40000.0                 0.0   \n",
       "1          CT          0.0         0.0     95000.0                 0.0   \n",
       "2          CT          0.0         0.0     44470.0                 0.0   \n",
       "3          TX          0.0         0.0    182000.0                 0.0   \n",
       "4          KS          0.0         0.0     82000.0                 0.0   \n",
       "\n",
       "   num_tl_30dpd  total_return         roi  \n",
       "0           0.0      19001.40  135.724286  \n",
       "1           0.0      20270.40  131.625974  \n",
       "2           0.0       5452.20  118.526087  \n",
       "3           0.0      16262.28  108.415200  \n",
       "4           0.0      17716.68  126.547714  \n",
       "\n",
       "[5 rows x 22 columns]"
      ]
     },
     "execution_count": 2,
     "metadata": {},
     "output_type": "execute_result"
    }
   ],
   "source": [
    "df.head()"
   ]
  },
  {
   "cell_type": "markdown",
   "metadata": {},
   "source": [
    "## Feature Engineering"
   ]
  },
  {
   "cell_type": "code",
   "execution_count": 3,
   "metadata": {},
   "outputs": [],
   "source": [
    "#binarizing the loan status column; \n",
    "#1 indicates the loan is performing or paid of \n",
    "#0 indicates not performing or defaulted/written off\n",
    "df.loc[\n",
    "    (df.loan_status == 'Current') | \n",
    "    (df.loan_status == 'Fully Paid') | \n",
    "    (df.loan_status =='In Grace Period'), 'loan_status'] = 1 \n",
    "df.loc[\n",
    "    (df.loan_status == 'Charged Off') | \n",
    "    (df.loan_status == 'Late (31-120 days)') | \n",
    "    (df.loan_status =='Default')|\n",
    "    (df.loan_status == 'Late (16-30 days)'), 'loan_status'] = 0"
   ]
  },
  {
   "cell_type": "code",
   "execution_count": 4,
   "metadata": {},
   "outputs": [
    {
     "data": {
      "image/png": "[encoded data removed]",
      "text/plain": [
       "<matplotlib.figure.Figure at 0x10898e198>"
      ]
     },
     "metadata": {},
     "output_type": "display_data"
    }
   ],
   "source": [
    "sns.countplot(df.loan_status).set(xticklabels=['Not Performing','Performing'])\n",
    "plt.title('Distribution of Loans Performing vs Not Performing')\n",
    "plt.show();"
   ]
  },
  {
   "cell_type": "code",
   "execution_count": 5,
   "metadata": {},
   "outputs": [
    {
     "data": {
      "image/png": "[encoded data removed]",
      "text/plain": [
       "<matplotlib.figure.Figure at 0x10a8d3898>"
      ]
     },
     "metadata": {},
     "output_type": "display_data"
    }
   ],
   "source": [
    "plt.figure(figsize=(10,6))\n",
    "plt.title('Loan Performance by Purpose')\n",
    "sns.countplot(df.purpose, hue=df.loan_status)\n",
    "plt.xticks(rotation=90)\n",
    "plt.show();"
   ]
  },
  {
   "cell_type": "code",
   "execution_count": 6,
   "metadata": {},
   "outputs": [
    {
     "name": "stdout",
     "output_type": "stream",
     "text": [
      "Grades:  ['C' 'B' 'A' 'E' 'D' 'G' 'F'] \n",
      "\n",
      "Grades Encoded:  [2 1 0 4 3 6 5] \n",
      "\n",
      "Purposes:  ['credit_card' 'debt_consolidation' 'car' 'other' 'vacation'\n",
      " 'major_purchase' 'home_improvement' 'medical' 'house' 'small_business'\n",
      " 'moving' 'renewable_energy' 'wedding' 'educational'] \n",
      "\n",
      "Purposes Encoded:  [ 1  2  0  9 12  6  4  7  5 11  8 10 13  3]\n"
     ]
    }
   ],
   "source": [
    "#label encoding loan grades to make the column usable\n",
    "#label encoding helps keep dimensionality low\n",
    "from sklearn import preprocessing\n",
    "le = preprocessing.LabelEncoder()\n",
    "\n",
    "#let's generate a list of how each var will be encoded\n",
    "grades = df.grade.unique()\n",
    "purposes = df.purpose.unique()\n",
    "\n",
    "\n",
    "grades_encoded = le.fit_transform(grades)\n",
    "purposes_encoded = le.fit_transform(purposes)\n",
    "\n",
    "print('Grades: ', grades, '\\n')\n",
    "print('Grades Encoded: ', grades_encoded, '\\n')\n",
    "\n",
    "print('Purposes: ', purposes, '\\n')\n",
    "print('Purposes Encoded: ', purposes_encoded)"
   ]
  },
  {
   "cell_type": "code",
   "execution_count": 7,
   "metadata": {},
   "outputs": [
    {
     "data": {
      "text/html": [
       "<div>\n",
       "<style scoped>\n",
       "    .dataframe tbody tr th:only-of-type {\n",
       "        vertical-align: middle;\n",
       "    }\n",
       "\n",
       "    .dataframe tbody tr th {\n",
       "        vertical-align: top;\n",
       "    }\n",
       "\n",
       "    .dataframe thead th {\n",
       "        text-align: right;\n",
       "    }\n",
       "</style>\n",
       "<table border=\"1\" class=\"dataframe\">\n",
       "  <thead>\n",
       "    <tr style=\"text-align: right;\">\n",
       "      <th></th>\n",
       "      <th>grade</th>\n",
       "      <th>issue_d</th>\n",
       "      <th>purpose</th>\n",
       "      <th>addr_state</th>\n",
       "    </tr>\n",
       "  </thead>\n",
       "  <tbody>\n",
       "    <tr>\n",
       "      <th>0</th>\n",
       "      <td>C</td>\n",
       "      <td>Mar</td>\n",
       "      <td>credit_card</td>\n",
       "      <td>CA</td>\n",
       "    </tr>\n",
       "    <tr>\n",
       "      <th>1</th>\n",
       "      <td>B</td>\n",
       "      <td>Mar</td>\n",
       "      <td>debt_consolidation</td>\n",
       "      <td>CT</td>\n",
       "    </tr>\n",
       "    <tr>\n",
       "      <th>2</th>\n",
       "      <td>B</td>\n",
       "      <td>Mar</td>\n",
       "      <td>credit_card</td>\n",
       "      <td>CT</td>\n",
       "    </tr>\n",
       "    <tr>\n",
       "      <th>3</th>\n",
       "      <td>A</td>\n",
       "      <td>Mar</td>\n",
       "      <td>debt_consolidation</td>\n",
       "      <td>TX</td>\n",
       "    </tr>\n",
       "    <tr>\n",
       "      <th>4</th>\n",
       "      <td>C</td>\n",
       "      <td>Mar</td>\n",
       "      <td>credit_card</td>\n",
       "      <td>KS</td>\n",
       "    </tr>\n",
       "  </tbody>\n",
       "</table>\n",
       "</div>"
      ],
      "text/plain": [
       "  grade issue_d             purpose addr_state\n",
       "0     C     Mar         credit_card         CA\n",
       "1     B     Mar  debt_consolidation         CT\n",
       "2     B     Mar         credit_card         CT\n",
       "3     A     Mar  debt_consolidation         TX\n",
       "4     C     Mar         credit_card         KS"
      ]
     },
     "execution_count": 7,
     "metadata": {},
     "output_type": "execute_result"
    }
   ],
   "source": [
    "#quick view of the features prior to label encoding\n",
    "df.loc[:,['grade','issue_d','purpose','addr_state']].head()"
   ]
  },
  {
   "cell_type": "code",
   "execution_count": 8,
   "metadata": {},
   "outputs": [],
   "source": [
    "#label encoding loan grades to make the column usable\n",
    "#label encoding helps keep dimensionality low\n",
    "from sklearn import preprocessing\n",
    "le = preprocessing.LabelEncoder()\n",
    "\n",
    "df['grade'] = le.fit_transform(df.grade)\n",
    "df['purpose'] = le.fit_transform(df.purpose)\n",
    "df['addr_state'] = le.fit_transform(df.addr_state)\n",
    "#df.head()"
   ]
  },
  {
   "cell_type": "code",
   "execution_count": 9,
   "metadata": {},
   "outputs": [],
   "source": [
    "#value mapping to convert months to their corresponding numerical values\n",
    "months = {'Jan':1, 'Feb':2,'Mar':3, 'Apr':4, 'May':5, 'Jun':6, 'Jul':7,\n",
    "         'Aug':8, 'Sep':9, 'Oct':10, 'Nov':11, 'Dec':12}\n",
    "\n",
    "df['issue_d'] = df.issue_d.map(months)"
   ]
  },
  {
   "cell_type": "code",
   "execution_count": 10,
   "metadata": {},
   "outputs": [
    {
     "data": {
      "text/html": [
       "<div>\n",
       "<style scoped>\n",
       "    .dataframe tbody tr th:only-of-type {\n",
       "        vertical-align: middle;\n",
       "    }\n",
       "\n",
       "    .dataframe tbody tr th {\n",
       "        vertical-align: top;\n",
       "    }\n",
       "\n",
       "    .dataframe thead th {\n",
       "        text-align: right;\n",
       "    }\n",
       "</style>\n",
       "<table border=\"1\" class=\"dataframe\">\n",
       "  <thead>\n",
       "    <tr style=\"text-align: right;\">\n",
       "      <th></th>\n",
       "      <th>grade</th>\n",
       "      <th>issue_d</th>\n",
       "      <th>purpose</th>\n",
       "      <th>addr_state</th>\n",
       "    </tr>\n",
       "  </thead>\n",
       "  <tbody>\n",
       "    <tr>\n",
       "      <th>0</th>\n",
       "      <td>2</td>\n",
       "      <td>3</td>\n",
       "      <td>1</td>\n",
       "      <td>4</td>\n",
       "    </tr>\n",
       "    <tr>\n",
       "      <th>1</th>\n",
       "      <td>1</td>\n",
       "      <td>3</td>\n",
       "      <td>2</td>\n",
       "      <td>6</td>\n",
       "    </tr>\n",
       "    <tr>\n",
       "      <th>2</th>\n",
       "      <td>1</td>\n",
       "      <td>3</td>\n",
       "      <td>1</td>\n",
       "      <td>6</td>\n",
       "    </tr>\n",
       "    <tr>\n",
       "      <th>3</th>\n",
       "      <td>0</td>\n",
       "      <td>3</td>\n",
       "      <td>2</td>\n",
       "      <td>42</td>\n",
       "    </tr>\n",
       "    <tr>\n",
       "      <th>4</th>\n",
       "      <td>2</td>\n",
       "      <td>3</td>\n",
       "      <td>1</td>\n",
       "      <td>15</td>\n",
       "    </tr>\n",
       "  </tbody>\n",
       "</table>\n",
       "</div>"
      ],
      "text/plain": [
       "   grade  issue_d  purpose  addr_state\n",
       "0      2        3        1           4\n",
       "1      1        3        2           6\n",
       "2      1        3        1           6\n",
       "3      0        3        2          42\n",
       "4      2        3        1          15"
      ]
     },
     "execution_count": 10,
     "metadata": {},
     "output_type": "execute_result"
    }
   ],
   "source": [
    "#quick view of the variables after label encoding and mapping\n",
    "df.loc[:,['grade','issue_d','purpose','addr_state']].head()"
   ]
  },
  {
   "cell_type": "code",
   "execution_count": 11,
   "metadata": {},
   "outputs": [
    {
     "data": {
      "text/html": [
       "<div>\n",
       "<style scoped>\n",
       "    .dataframe tbody tr th:only-of-type {\n",
       "        vertical-align: middle;\n",
       "    }\n",
       "\n",
       "    .dataframe tbody tr th {\n",
       "        vertical-align: top;\n",
       "    }\n",
       "\n",
       "    .dataframe thead th {\n",
       "        text-align: right;\n",
       "    }\n",
       "</style>\n",
       "<table border=\"1\" class=\"dataframe\">\n",
       "  <thead>\n",
       "    <tr style=\"text-align: right;\">\n",
       "      <th></th>\n",
       "      <th>loan_amnt</th>\n",
       "      <th>term</th>\n",
       "      <th>int_rate</th>\n",
       "      <th>monthly_pmt</th>\n",
       "      <th>grade</th>\n",
       "      <th>issue_d</th>\n",
       "      <th>purpose</th>\n",
       "      <th>loan_status</th>\n",
       "      <th>dti</th>\n",
       "      <th>recoveries</th>\n",
       "      <th>...</th>\n",
       "      <th>tax_liens</th>\n",
       "      <th>pub_rec_bankruptcies</th>\n",
       "      <th>addr_state</th>\n",
       "      <th>delinq_2yrs</th>\n",
       "      <th>delinq_amnt</th>\n",
       "      <th>annual_inc</th>\n",
       "      <th>num_tl_90g_dpd_24m</th>\n",
       "      <th>num_tl_30dpd</th>\n",
       "      <th>total_return</th>\n",
       "      <th>roi</th>\n",
       "    </tr>\n",
       "  </thead>\n",
       "  <tbody>\n",
       "    <tr>\n",
       "      <th>0</th>\n",
       "      <td>14000.0</td>\n",
       "      <td>60</td>\n",
       "      <td>12.74</td>\n",
       "      <td>316.69</td>\n",
       "      <td>2</td>\n",
       "      <td>3</td>\n",
       "      <td>1</td>\n",
       "      <td>1</td>\n",
       "      <td>17.48</td>\n",
       "      <td>0.0</td>\n",
       "      <td>...</td>\n",
       "      <td>0.0</td>\n",
       "      <td>0.0</td>\n",
       "      <td>4</td>\n",
       "      <td>0.0</td>\n",
       "      <td>0.0</td>\n",
       "      <td>40000.0</td>\n",
       "      <td>0.0</td>\n",
       "      <td>0.0</td>\n",
       "      <td>19001.40</td>\n",
       "      <td>135.724286</td>\n",
       "    </tr>\n",
       "    <tr>\n",
       "      <th>1</th>\n",
       "      <td>15400.0</td>\n",
       "      <td>60</td>\n",
       "      <td>11.39</td>\n",
       "      <td>337.84</td>\n",
       "      <td>1</td>\n",
       "      <td>3</td>\n",
       "      <td>2</td>\n",
       "      <td>1</td>\n",
       "      <td>11.52</td>\n",
       "      <td>0.0</td>\n",
       "      <td>...</td>\n",
       "      <td>0.0</td>\n",
       "      <td>0.0</td>\n",
       "      <td>6</td>\n",
       "      <td>0.0</td>\n",
       "      <td>0.0</td>\n",
       "      <td>95000.0</td>\n",
       "      <td>0.0</td>\n",
       "      <td>0.0</td>\n",
       "      <td>20270.40</td>\n",
       "      <td>131.625974</td>\n",
       "    </tr>\n",
       "    <tr>\n",
       "      <th>2</th>\n",
       "      <td>4600.0</td>\n",
       "      <td>36</td>\n",
       "      <td>11.39</td>\n",
       "      <td>151.45</td>\n",
       "      <td>1</td>\n",
       "      <td>3</td>\n",
       "      <td>1</td>\n",
       "      <td>1</td>\n",
       "      <td>13.43</td>\n",
       "      <td>0.0</td>\n",
       "      <td>...</td>\n",
       "      <td>0.0</td>\n",
       "      <td>0.0</td>\n",
       "      <td>6</td>\n",
       "      <td>0.0</td>\n",
       "      <td>0.0</td>\n",
       "      <td>44470.0</td>\n",
       "      <td>0.0</td>\n",
       "      <td>0.0</td>\n",
       "      <td>5452.20</td>\n",
       "      <td>118.526087</td>\n",
       "    </tr>\n",
       "    <tr>\n",
       "      <th>3</th>\n",
       "      <td>15000.0</td>\n",
       "      <td>36</td>\n",
       "      <td>5.32</td>\n",
       "      <td>451.73</td>\n",
       "      <td>0</td>\n",
       "      <td>3</td>\n",
       "      <td>2</td>\n",
       "      <td>1</td>\n",
       "      <td>9.35</td>\n",
       "      <td>0.0</td>\n",
       "      <td>...</td>\n",
       "      <td>0.0</td>\n",
       "      <td>0.0</td>\n",
       "      <td>42</td>\n",
       "      <td>0.0</td>\n",
       "      <td>0.0</td>\n",
       "      <td>182000.0</td>\n",
       "      <td>0.0</td>\n",
       "      <td>0.0</td>\n",
       "      <td>16262.28</td>\n",
       "      <td>108.415200</td>\n",
       "    </tr>\n",
       "    <tr>\n",
       "      <th>4</th>\n",
       "      <td>14000.0</td>\n",
       "      <td>36</td>\n",
       "      <td>15.99</td>\n",
       "      <td>492.13</td>\n",
       "      <td>2</td>\n",
       "      <td>3</td>\n",
       "      <td>1</td>\n",
       "      <td>1</td>\n",
       "      <td>31.07</td>\n",
       "      <td>0.0</td>\n",
       "      <td>...</td>\n",
       "      <td>0.0</td>\n",
       "      <td>0.0</td>\n",
       "      <td>15</td>\n",
       "      <td>0.0</td>\n",
       "      <td>0.0</td>\n",
       "      <td>82000.0</td>\n",
       "      <td>0.0</td>\n",
       "      <td>0.0</td>\n",
       "      <td>17716.68</td>\n",
       "      <td>126.547714</td>\n",
       "    </tr>\n",
       "  </tbody>\n",
       "</table>\n",
       "<p>5 rows × 22 columns</p>\n",
       "</div>"
      ],
      "text/plain": [
       "   loan_amnt  term  int_rate  monthly_pmt  grade  issue_d  purpose  \\\n",
       "0    14000.0    60     12.74       316.69      2        3        1   \n",
       "1    15400.0    60     11.39       337.84      1        3        2   \n",
       "2     4600.0    36     11.39       151.45      1        3        1   \n",
       "3    15000.0    36      5.32       451.73      0        3        2   \n",
       "4    14000.0    36     15.99       492.13      2        3        1   \n",
       "\n",
       "   loan_status    dti  recoveries     ...      tax_liens  \\\n",
       "0            1  17.48         0.0     ...            0.0   \n",
       "1            1  11.52         0.0     ...            0.0   \n",
       "2            1  13.43         0.0     ...            0.0   \n",
       "3            1   9.35         0.0     ...            0.0   \n",
       "4            1  31.07         0.0     ...            0.0   \n",
       "\n",
       "   pub_rec_bankruptcies  addr_state  delinq_2yrs  delinq_amnt  annual_inc  \\\n",
       "0                   0.0           4          0.0          0.0     40000.0   \n",
       "1                   0.0           6          0.0          0.0     95000.0   \n",
       "2                   0.0           6          0.0          0.0     44470.0   \n",
       "3                   0.0          42          0.0          0.0    182000.0   \n",
       "4                   0.0          15          0.0          0.0     82000.0   \n",
       "\n",
       "   num_tl_90g_dpd_24m  num_tl_30dpd  total_return         roi  \n",
       "0                 0.0           0.0      19001.40  135.724286  \n",
       "1                 0.0           0.0      20270.40  131.625974  \n",
       "2                 0.0           0.0       5452.20  118.526087  \n",
       "3                 0.0           0.0      16262.28  108.415200  \n",
       "4                 0.0           0.0      17716.68  126.547714  \n",
       "\n",
       "[5 rows x 22 columns]"
      ]
     },
     "execution_count": 11,
     "metadata": {},
     "output_type": "execute_result"
    }
   ],
   "source": [
    "df.head()"
   ]
  },
  {
   "cell_type": "markdown",
   "metadata": {},
   "source": [
    "# Models\n",
    "\n",
    "__KNN Classifier Model__"
   ]
  },
  {
   "cell_type": "code",
   "execution_count": 12,
   "metadata": {},
   "outputs": [
    {
     "name": "stdout",
     "output_type": "stream",
     "text": [
      "Accuracy: \n",
      " 0.9999977426534657\n"
     ]
    },
    {
     "data": {
      "text/plain": [
       "array([0.96155756, 0.96167043, 0.96142212, 0.96146727, 0.96182844,\n",
       "       0.96160271, 0.96214447, 0.96223476, 0.96218876, 0.96214361])"
      ]
     },
     "metadata": {},
     "output_type": "display_data"
    },
    {
     "name": "stdout",
     "output_type": "stream",
     "text": [
      "KNN Cross Validation Accuracy: 0.962 (+/- 0.001)\n",
      "Duration: 0:01:31.555309\n"
     ]
    }
   ],
   "source": [
    "start_time = datetime.now()\n",
    "\n",
    "knn = KNeighborsClassifier(n_neighbors=10, weights='distance')\n",
    "\n",
    "x1= pd.DataFrame({\n",
    "    'loan_amnt': df.loan_amnt,\n",
    "    'term': df.term,\n",
    "    'int_rate': df.int_rate,\n",
    "    'annual_inc': df.annual_inc,\n",
    "    'dti': df.dti,\n",
    "    'grade': df.grade,\n",
    "    'purpose': df.purpose,\n",
    "    'addr_state': df.addr_state,\n",
    "    'issue_d': df.issue_d\n",
    "    \n",
    "})\n",
    "y1= df.loan_status\n",
    "\n",
    "knn.fit(x1,y1)\n",
    "\n",
    "y_knn_pred = knn.predict(x1)\n",
    "\n",
    "\n",
    "print('Accuracy: \\n', knn.score(x1,y1))\n",
    "\n",
    "#test using cross validation\n",
    "from sklearn.model_selection import cross_val_score\n",
    "\n",
    "display(cross_val_score(knn, x1,y1, cv=10))\n",
    "score = cross_val_score(knn, x1, y1, cv=10)\n",
    "print(\"KNN Cross Validation Accuracy: %0.3f (+/- %0.3f)\" % (score.mean(), score.std() * 2))\n",
    "\n",
    "end_time = datetime.now()\n",
    "print('Duration: {}'.format(end_time - start_time))"
   ]
  },
  {
   "cell_type": "markdown",
   "metadata": {},
   "source": [
    "__BernoulliNB Model__"
   ]
  },
  {
   "cell_type": "code",
   "execution_count": 13,
   "metadata": {},
   "outputs": [],
   "source": [
    "#using the same features as the KNN model\n",
    "data = df.loc[:,['loan_amnt','term','int_rate','annual_inc','dti','grade']]\n",
    "b_target = df.loan_status"
   ]
  },
  {
   "cell_type": "code",
   "execution_count": 14,
   "metadata": {},
   "outputs": [
    {
     "name": "stdout",
     "output_type": "stream",
     "text": [
      "Accuracy:  0.962866649510833\n"
     ]
    },
    {
     "data": {
      "text/plain": [
       "array([0.96286682, 0.96286682, 0.96286682, 0.96286682, 0.96286682,\n",
       "       0.96286682, 0.96286682, 0.96286682, 0.96286598, 0.96286598])"
      ]
     },
     "metadata": {},
     "output_type": "display_data"
    },
    {
     "name": "stdout",
     "output_type": "stream",
     "text": [
      "Cross Validation Accuracy: 0.963 (+/- 0.000)\n",
      "Duration: 0:00:02.128724\n"
     ]
    }
   ],
   "source": [
    "start_time = datetime.now()\n",
    "bnb = BernoulliNB()\n",
    "\n",
    "bnb.fit(data,b_target)\n",
    "\n",
    "bnb_pred = bnb.predict(data)\n",
    "\n",
    "print('Accuracy: ', bnb.score(data,b_target))\n",
    "\n",
    "score = cross_val_score(bnb, data, b_target, cv=10)\n",
    "display(score)\n",
    "print(\"Cross Validation Accuracy: %0.3f (+/- %0.3f)\" % (score.mean(), score.std() * 2))\n",
    "\n",
    "end_time = datetime.now()\n",
    "print('Duration: {}'.format(end_time - start_time))"
   ]
  },
  {
   "cell_type": "markdown",
   "metadata": {},
   "source": [
    "__Random Forest Classification__"
   ]
  },
  {
   "cell_type": "code",
   "execution_count": 15,
   "metadata": {},
   "outputs": [
    {
     "name": "stdout",
     "output_type": "stream",
     "text": [
      "Accuracy:  0.9967087887529966\n"
     ]
    },
    {
     "data": {
      "text/plain": [
       "array([0.95392777, 0.95056433, 0.95977427, 0.95740406, 0.95812641,\n",
       "       0.96022573, 0.96004515, 0.9614447 , 0.96160184, 0.96121809])"
      ]
     },
     "metadata": {},
     "output_type": "display_data"
    },
    {
     "name": "stdout",
     "output_type": "stream",
     "text": [
      "RFC Cross Validation Accuracy: 0.958 (+/- 0.007)\n",
      "Duration: 0:01:18.643727\n"
     ]
    }
   ],
   "source": [
    "# from sklearn.ensemble import RandomForestClassifier; already loaded\n",
    "start_time = datetime.now()\n",
    "\n",
    "rfc = RandomForestClassifier()\n",
    "X_rfc = df.loc[:,['loan_amnt','term','int_rate','annual_inc','dti','grade','purpose']]\n",
    "Y_rfc= df.loan_status\n",
    "\n",
    "rfc.fit(X_rfc,Y_rfc)\n",
    "\n",
    "y_rfc_pred = rfc.predict(X_rfc)\n",
    "\n",
    "print('Accuracy: ', rfc.score(X_rfc, Y_rfc))\n",
    "\n",
    "#use cross validation to verify the accuracy\n",
    "rfc_score = cross_val_score(rfc, X_rfc, Y_rfc, cv=10)\n",
    "display(rfc_score)\n",
    "print(\"RFC Cross Validation Accuracy: %0.3f (+/- %0.3f)\" % (rfc_score.mean(), rfc_score.std() * 2))\n",
    "\n",
    "end_time = datetime.now()\n",
    "print('Duration: {}'.format(end_time - start_time))"
   ]
  },
  {
   "cell_type": "markdown",
   "metadata": {},
   "source": [
    "__Logistic Regression__"
   ]
  },
  {
   "cell_type": "code",
   "execution_count": 16,
   "metadata": {},
   "outputs": [
    {
     "name": "stdout",
     "output_type": "stream",
     "text": [
      "Unweighted Accuracy:  0.9628689068573673\n",
      "Unweighted, Cross Validation Accuracy: 0.963 (+/- 0.000)\n",
      "Weighted Accuracy:  0.681325875060384\n",
      "Weighted, Cross Validation Accuracy:  0.678 (+/- 0.036)\n",
      "Duration: 0:00:48.318889\n"
     ]
    }
   ],
   "source": [
    "from sklearn.linear_model import LogisticRegression\n",
    "start_time = datetime.now()\n",
    "\n",
    "#the class_weight paramater handles class imbalance by assigning weights equal to the inverse\n",
    "#of the class distribution\n",
    "lr = LogisticRegression()\n",
    "w_lr = LogisticRegression(class_weight='balanced')\n",
    "\n",
    "X = df.loc[:,['loan_amnt','term','int_rate','annual_inc','dti','grade']]\n",
    "Y = df.loan_status\n",
    "\n",
    "lr.fit(X,Y)\n",
    "w_lr.fit(X,Y)\n",
    "\n",
    "#storing predictions in a variable\n",
    "lr_pred = lr.predict(X)\n",
    "w_lr_pred = w_lr.predict(X) \n",
    "\n",
    "\n",
    "u_score = cross_val_score(lr, X, Y, cv=10)\n",
    "print('Unweighted Accuracy: ', lr.score(X,Y))\n",
    "print(\"Unweighted, Cross Validation Accuracy: %0.3f (+/- %0.3f)\" % (u_score.mean(), u_score.std() * 2))\n",
    "\n",
    "\n",
    "w_score = cross_val_score(w_lr, X, Y, cv=10)\n",
    "print('Weighted Accuracy: ', w_lr.score(X,Y))\n",
    "print('Weighted, Cross Validation Accuracy:  %0.3f (+/- %0.3f)' % (w_score.mean(), w_score.std() * 2))\n",
    "\n",
    "end_time = datetime.now()\n",
    "print('Duration: {}'.format(end_time - start_time))"
   ]
  },
  {
   "cell_type": "markdown",
   "metadata": {},
   "source": [
    "## Model Evaluation\n",
    "\n",
    "__KNN Classifier__"
   ]
  },
  {
   "cell_type": "code",
   "execution_count": 17,
   "metadata": {},
   "outputs": [
    {
     "name": "stdout",
     "output_type": "stream",
     "text": [
      "Number of mislabled points: 1\n"
     ]
    }
   ],
   "source": [
    "print(\"Number of mislabled points: {}\".format((y1 != y_knn_pred).sum()))"
   ]
  },
  {
   "cell_type": "code",
   "execution_count": 18,
   "metadata": {},
   "outputs": [
    {
     "name": "stdout",
     "output_type": "stream",
     "text": [
      "col_0            0       1     All\n",
      "loan_status                       \n",
      "0            16450       0   16450\n",
      "1                1  426547  426548\n",
      "All          16451  426547  442998 \n",
      "\n",
      "KNN Performance:\n",
      "Percent Type I errors: 0.0\n",
      "Percent Type II errors: 2.257346534295866e-06\n",
      "Sensitivty: 0.9999976555979632 \n",
      "Specificity: 1.0\n"
     ]
    }
   ],
   "source": [
    "#check the predictions\n",
    "knn_table = pd.crosstab(y1, y_knn_pred, margins=True)\n",
    "print(knn_table, '\\n')\n",
    "\n",
    "tI_errors = knn_table.loc[0.0,1.0] / knn_table.loc['All','All']\n",
    "tII_errors = knn_table.loc[1.0,0.0] / knn_table.loc['All','All']\n",
    "\n",
    "specificity = knn_table.loc[0.0,0.0] / (knn_table.loc[0.0,0.0] + knn_table.loc[0.0,1.0])\n",
    "sensitivity = knn_table.loc[1.0,1.0] / (knn_table.loc[1.0,0.0] + knn_table.loc[1.0,1.0])\n",
    "\n",
    "print((\n",
    "    'KNN Performance:\\n'\n",
    "    'Percent Type I errors: {}\\n'\n",
    "    'Percent Type II errors: {}\\n'\n",
    "    'Sensitivty: {} \\n'\n",
    "    'Specificity: {}'\n",
    ").format(tI_errors, tII_errors, sensitivity, specificity))"
   ]
  },
  {
   "cell_type": "markdown",
   "metadata": {},
   "source": [
    "__Bernoulli Naive Bayes __"
   ]
  },
  {
   "cell_type": "code",
   "execution_count": 19,
   "metadata": {},
   "outputs": [
    {
     "name": "stdout",
     "output_type": "stream",
     "text": [
      "Number of mislabled points: 16450\n"
     ]
    }
   ],
   "source": [
    "print(\"Number of mislabled points: {}\".format((b_target !=bnb_pred).sum()))"
   ]
  },
  {
   "cell_type": "code",
   "execution_count": 20,
   "metadata": {},
   "outputs": [
    {
     "data": {
      "text/html": [
       "<div>\n",
       "<style scoped>\n",
       "    .dataframe tbody tr th:only-of-type {\n",
       "        vertical-align: middle;\n",
       "    }\n",
       "\n",
       "    .dataframe tbody tr th {\n",
       "        vertical-align: top;\n",
       "    }\n",
       "\n",
       "    .dataframe thead th {\n",
       "        text-align: right;\n",
       "    }\n",
       "</style>\n",
       "<table border=\"1\" class=\"dataframe\">\n",
       "  <thead>\n",
       "    <tr style=\"text-align: right;\">\n",
       "      <th>loan_status</th>\n",
       "      <th>0</th>\n",
       "      <th>1</th>\n",
       "      <th>All</th>\n",
       "    </tr>\n",
       "    <tr>\n",
       "      <th>row_0</th>\n",
       "      <th></th>\n",
       "      <th></th>\n",
       "      <th></th>\n",
       "    </tr>\n",
       "  </thead>\n",
       "  <tbody>\n",
       "    <tr>\n",
       "      <th>1</th>\n",
       "      <td>16450</td>\n",
       "      <td>426548</td>\n",
       "      <td>442998</td>\n",
       "    </tr>\n",
       "    <tr>\n",
       "      <th>All</th>\n",
       "      <td>16450</td>\n",
       "      <td>426548</td>\n",
       "      <td>442998</td>\n",
       "    </tr>\n",
       "  </tbody>\n",
       "</table>\n",
       "</div>"
      ],
      "text/plain": [
       "loan_status      0       1     All\n",
       "row_0                             \n",
       "1            16450  426548  442998\n",
       "All          16450  426548  442998"
      ]
     },
     "metadata": {},
     "output_type": "display_data"
    }
   ],
   "source": [
    "bnb_table = pd.crosstab(bnb_pred, b_target, margins=True)\n",
    "display(bnb_table)"
   ]
  },
  {
   "cell_type": "markdown",
   "metadata": {},
   "source": [
    "The model always predicts \"Performing\"."
   ]
  },
  {
   "cell_type": "markdown",
   "metadata": {},
   "source": [
    "__Random Forest Classifier__"
   ]
  },
  {
   "cell_type": "code",
   "execution_count": 21,
   "metadata": {},
   "outputs": [
    {
     "name": "stdout",
     "output_type": "stream",
     "text": [
      "Number of mislabled of points: 1458\n"
     ]
    }
   ],
   "source": [
    "print(\"Number of mislabled of points: {}\".format((Y_rfc !=y_rfc_pred).sum()))"
   ]
  },
  {
   "cell_type": "code",
   "execution_count": 22,
   "metadata": {},
   "outputs": [
    {
     "name": "stdout",
     "output_type": "stream",
     "text": [
      "col_0            0       1     All\n",
      "loan_status                       \n",
      "0            15026    1424   16450\n",
      "1               34  426514  426548\n",
      "All          15060  427938  442998 \n",
      "\n",
      "Random Forest:\n",
      "Percent Type I errors: 0.0032144614648373132\n",
      "Percent Type II errors: 7.674978216605944e-05\n",
      "Sensitivty: 0.9999202903307483 \n",
      "Specificity: 0.9134346504559271\n"
     ]
    }
   ],
   "source": [
    "#check the error rates\n",
    "rfc_table = pd.crosstab(Y_rfc, y_rfc_pred, margins=True)\n",
    "print(rfc_table, '\\n')\n",
    "\n",
    "rfc_tI_errors = rfc_table.loc[0.0,1.0] / rfc_table.loc['All','All']\n",
    "rfc_tII_errors = rfc_table.loc[1.0,0.0] / rfc_table.loc['All','All']\n",
    "\n",
    "specificity = rfc_table.loc[0.0,0.0] / (rfc_table.loc[0.0,0.0] + rfc_table.loc[0.0,1.0])\n",
    "sensitivity = rfc_table.loc[1.0,1.0] / (rfc_table.loc[1.0,0.0] + rfc_table.loc[1.0,1.0])\n",
    "\n",
    "print((\n",
    "    'Random Forest:\\n'\n",
    "    'Percent Type I errors: {}\\n'\n",
    "    'Percent Type II errors: {}\\n'\n",
    "    'Sensitivty: {} \\n'\n",
    "    'Specificity: {}'\n",
    ").format(rfc_tI_errors, rfc_tII_errors, sensitivity, specificity))"
   ]
  },
  {
   "cell_type": "markdown",
   "metadata": {},
   "source": [
    "__Logistic Regression__\n",
    "\n",
    "\n",
    "Unweighted Model"
   ]
  },
  {
   "cell_type": "code",
   "execution_count": 23,
   "metadata": {},
   "outputs": [
    {
     "name": "stdout",
     "output_type": "stream",
     "text": [
      "col_0        0       1     All\n",
      "loan_status                   \n",
      "0            1   16449   16450\n",
      "1            0  426548  426548\n",
      "All          1  442997  442998 \n",
      "\n",
      "Weighted Logistic Regression Accuracy:\n",
      "Percent Type I errors: 0.0371310931426327\n",
      "Percent Type II errors: 0.0\n",
      "Sensitivty: 1.0 \n",
      "Specificity: 6.0790273556231004e-05\n"
     ]
    }
   ],
   "source": [
    "#unweighted model\n",
    "#check the error rates\n",
    "u_logreg_table = pd.crosstab(Y, lr_pred, margins=True)\n",
    "print(u_logreg_table, '\\n')\n",
    "\n",
    "u_logreg_tI_errors = u_logreg_table.loc[0.0,1.0] / u_logreg_table.loc['All','All']\n",
    "u_logreg_tII_errors = u_logreg_table.loc[1.0,0.0] / u_logreg_table.loc['All','All']\n",
    "\n",
    "specificity = u_logreg_table.loc[0.0,0.0] / (u_logreg_table.loc[0.0,0.0] + u_logreg_table.loc[0.0,1.0])\n",
    "sensitivity = u_logreg_table.loc[1.0,1.0] / (u_logreg_table.loc[1.0,0.0] + u_logreg_table.loc[1.0,1.0])\n",
    "\n",
    "print((\n",
    "    'Weighted Logistic Regression Accuracy:\\n'\n",
    "    'Percent Type I errors: {}\\n'\n",
    "    'Percent Type II errors: {}\\n'\n",
    "    'Sensitivty: {} \\n'\n",
    "    'Specificity: {}'\n",
    ").format(u_logreg_tI_errors, u_logreg_tII_errors, sensitivity, specificity))"
   ]
  },
  {
   "cell_type": "markdown",
   "metadata": {},
   "source": [
    "Weighted Model"
   ]
  },
  {
   "cell_type": "code",
   "execution_count": 24,
   "metadata": {},
   "outputs": [
    {
     "name": "stdout",
     "output_type": "stream",
     "text": [
      "col_0             0       1     All\n",
      "loan_status                        \n",
      "0              9944    6506   16450\n",
      "1            134666  291882  426548\n",
      "All          144610  298388  442998 \n",
      "\n",
      "Weighted Logistic Regression Accuracy:\n",
      "Percent Type I errors: 0.014686296552128903\n",
      "Percent Type II errors: 0.30398782838748706\n",
      "Sensitivty: 0.6842887553100706 \n",
      "Specificity: 0.6044984802431611\n"
     ]
    }
   ],
   "source": [
    "#weighted model\n",
    "#check the error rates\n",
    "logreg_table = pd.crosstab(Y, w_lr_pred, margins=True)\n",
    "print(logreg_table, '\\n')\n",
    "\n",
    "logreg_tI_errors = logreg_table.loc[0.0,1.0] / logreg_table.loc['All','All']\n",
    "logreg_tII_errors = logreg_table.loc[1.0,0.0] / logreg_table.loc['All','All']\n",
    "\n",
    "specificity = logreg_table.loc[0.0,0.0] / (logreg_table.loc[0.0,0.0] + logreg_table.loc[0.0,1.0])\n",
    "sensitivity = logreg_table.loc[1.0,1.0] / (logreg_table.loc[1.0,0.0] + logreg_table.loc[1.0,1.0])\n",
    "\n",
    "print((\n",
    "    'Weighted Logistic Regression Accuracy:\\n'\n",
    "    'Percent Type I errors: {}\\n'\n",
    "    'Percent Type II errors: {}\\n'\n",
    "    'Sensitivty: {} \\n'\n",
    "    'Specificity: {}'\n",
    ").format(logreg_tI_errors, logreg_tII_errors, sensitivity, specificity))"
   ]
  }
 ],
 "metadata": {
  "kernelspec": {
   "display_name": "Python 3",
   "language": "python",
   "name": "python3"
  },
  "language_info": {
   "codemirror_mode": {
    "name": "ipython",
    "version": 3
   },
   "file_extension": ".py",
   "mimetype": "text/x-python",
   "name": "python",
   "nbconvert_exporter": "python",
   "pygments_lexer": "ipython3",
   "version": "3.6.4"
  }
 },
 "nbformat": 4,
 "nbformat_minor": 2
}
